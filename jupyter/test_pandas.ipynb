{
 "cells": [
  {
   "cell_type": "code",
   "execution_count": 1,
   "metadata": {},
   "outputs": [
    {
     "data": {
      "text/html": [
       "<div>\n",
       "<style scoped>\n",
       "    .dataframe tbody tr th:only-of-type {\n",
       "        vertical-align: middle;\n",
       "    }\n",
       "\n",
       "    .dataframe tbody tr th {\n",
       "        vertical-align: top;\n",
       "    }\n",
       "\n",
       "    .dataframe thead th {\n",
       "        text-align: right;\n",
       "    }\n",
       "</style>\n",
       "<table border=\"1\" class=\"dataframe\">\n",
       "  <thead>\n",
       "    <tr style=\"text-align: right;\">\n",
       "      <th></th>\n",
       "      <th>date</th>\n",
       "      <th>case</th>\n",
       "      <th>population</th>\n",
       "    </tr>\n",
       "  </thead>\n",
       "  <tbody>\n",
       "    <tr>\n",
       "      <th>0</th>\n",
       "      <td>2020-01-01</td>\n",
       "      <td>0</td>\n",
       "      <td>176112</td>\n",
       "    </tr>\n",
       "    <tr>\n",
       "      <th>1</th>\n",
       "      <td>2020-02-01</td>\n",
       "      <td>6</td>\n",
       "      <td>176879</td>\n",
       "    </tr>\n",
       "    <tr>\n",
       "      <th>2</th>\n",
       "      <td>2020-03-01</td>\n",
       "      <td>3</td>\n",
       "      <td>176967</td>\n",
       "    </tr>\n",
       "    <tr>\n",
       "      <th>3</th>\n",
       "      <td>2020-04-01</td>\n",
       "      <td>2</td>\n",
       "      <td>176984</td>\n",
       "    </tr>\n",
       "    <tr>\n",
       "      <th>4</th>\n",
       "      <td>2020-05-01</td>\n",
       "      <td>0</td>\n",
       "      <td>176886</td>\n",
       "    </tr>\n",
       "  </tbody>\n",
       "</table>\n",
       "</div>"
      ],
      "text/plain": [
       "         date  case  population\n",
       "0  2020-01-01     0      176112\n",
       "1  2020-02-01     6      176879\n",
       "2  2020-03-01     3      176967\n",
       "3  2020-04-01     2      176984\n",
       "4  2020-05-01     0      176886"
      ]
     },
     "execution_count": 1,
     "metadata": {},
     "output_type": "execute_result"
    }
   ],
   "source": [
    "import pandas as pd\n",
    "\n",
    "dataframe = pd.read_csv(\"suyeong.csv\")\n",
    "\n",
    "dataframe.head()"
   ]
  },
  {
   "cell_type": "code",
   "execution_count": 2,
   "metadata": {},
   "outputs": [
    {
     "name": "stdout",
     "output_type": "stream",
     "text": [
      "<class 'pandas.core.frame.DataFrame'>\n",
      "RangeIndex: 33 entries, 0 to 32\n",
      "Data columns (total 3 columns):\n",
      " #   Column      Non-Null Count  Dtype \n",
      "---  ------      --------------  ----- \n",
      " 0   date        33 non-null     object\n",
      " 1   case        33 non-null     int64 \n",
      " 2   population  33 non-null     int64 \n",
      "dtypes: int64(2), object(1)\n",
      "memory usage: 920.0+ bytes\n"
     ]
    }
   ],
   "source": [
    "dataframe.info()"
   ]
  },
  {
   "cell_type": "code",
   "execution_count": 3,
   "metadata": {},
   "outputs": [
    {
     "data": {
      "text/html": [
       "<div>\n",
       "<style scoped>\n",
       "    .dataframe tbody tr th:only-of-type {\n",
       "        vertical-align: middle;\n",
       "    }\n",
       "\n",
       "    .dataframe tbody tr th {\n",
       "        vertical-align: top;\n",
       "    }\n",
       "\n",
       "    .dataframe thead th {\n",
       "        text-align: right;\n",
       "    }\n",
       "</style>\n",
       "<table border=\"1\" class=\"dataframe\">\n",
       "  <thead>\n",
       "    <tr style=\"text-align: right;\">\n",
       "      <th></th>\n",
       "      <th>case</th>\n",
       "      <th>population</th>\n",
       "    </tr>\n",
       "  </thead>\n",
       "  <tbody>\n",
       "    <tr>\n",
       "      <th>count</th>\n",
       "      <td>33.000000</td>\n",
       "      <td>33.000000</td>\n",
       "    </tr>\n",
       "    <tr>\n",
       "      <th>mean</th>\n",
       "      <td>2487.151515</td>\n",
       "      <td>176140.696970</td>\n",
       "    </tr>\n",
       "    <tr>\n",
       "      <th>std</th>\n",
       "      <td>6729.549925</td>\n",
       "      <td>878.623194</td>\n",
       "    </tr>\n",
       "    <tr>\n",
       "      <th>min</th>\n",
       "      <td>0.000000</td>\n",
       "      <td>174275.000000</td>\n",
       "    </tr>\n",
       "    <tr>\n",
       "      <th>25%</th>\n",
       "      <td>4.000000</td>\n",
       "      <td>175722.000000</td>\n",
       "    </tr>\n",
       "    <tr>\n",
       "      <th>50%</th>\n",
       "      <td>48.000000</td>\n",
       "      <td>176361.000000</td>\n",
       "    </tr>\n",
       "    <tr>\n",
       "      <th>75%</th>\n",
       "      <td>659.000000</td>\n",
       "      <td>176885.000000</td>\n",
       "    </tr>\n",
       "    <tr>\n",
       "      <th>max</th>\n",
       "      <td>35216.000000</td>\n",
       "      <td>177266.000000</td>\n",
       "    </tr>\n",
       "  </tbody>\n",
       "</table>\n",
       "</div>"
      ],
      "text/plain": [
       "               case     population\n",
       "count     33.000000      33.000000\n",
       "mean    2487.151515  176140.696970\n",
       "std     6729.549925     878.623194\n",
       "min        0.000000  174275.000000\n",
       "25%        4.000000  175722.000000\n",
       "50%       48.000000  176361.000000\n",
       "75%      659.000000  176885.000000\n",
       "max    35216.000000  177266.000000"
      ]
     },
     "execution_count": 3,
     "metadata": {},
     "output_type": "execute_result"
    }
   ],
   "source": [
    "dataframe.describe()"
   ]
  },
  {
   "cell_type": "code",
   "execution_count": 4,
   "metadata": {},
   "outputs": [
    {
     "data": {
      "text/html": [
       "<div>\n",
       "<style scoped>\n",
       "    .dataframe tbody tr th:only-of-type {\n",
       "        vertical-align: middle;\n",
       "    }\n",
       "\n",
       "    .dataframe tbody tr th {\n",
       "        vertical-align: top;\n",
       "    }\n",
       "\n",
       "    .dataframe thead th {\n",
       "        text-align: right;\n",
       "    }\n",
       "</style>\n",
       "<table border=\"1\" class=\"dataframe\">\n",
       "  <thead>\n",
       "    <tr style=\"text-align: right;\">\n",
       "      <th></th>\n",
       "      <th>date</th>\n",
       "      <th>case</th>\n",
       "    </tr>\n",
       "  </thead>\n",
       "  <tbody>\n",
       "    <tr>\n",
       "      <th>0</th>\n",
       "      <td>2020-01-01</td>\n",
       "      <td>0</td>\n",
       "    </tr>\n",
       "    <tr>\n",
       "      <th>1</th>\n",
       "      <td>2020-02-01</td>\n",
       "      <td>6</td>\n",
       "    </tr>\n",
       "    <tr>\n",
       "      <th>2</th>\n",
       "      <td>2020-03-01</td>\n",
       "      <td>3</td>\n",
       "    </tr>\n",
       "    <tr>\n",
       "      <th>3</th>\n",
       "      <td>2020-04-01</td>\n",
       "      <td>2</td>\n",
       "    </tr>\n",
       "    <tr>\n",
       "      <th>4</th>\n",
       "      <td>2020-05-01</td>\n",
       "      <td>0</td>\n",
       "    </tr>\n",
       "  </tbody>\n",
       "</table>\n",
       "</div>"
      ],
      "text/plain": [
       "         date  case\n",
       "0  2020-01-01     0\n",
       "1  2020-02-01     6\n",
       "2  2020-03-01     3\n",
       "3  2020-04-01     2\n",
       "4  2020-05-01     0"
      ]
     },
     "execution_count": 4,
     "metadata": {},
     "output_type": "execute_result"
    }
   ],
   "source": [
    "split_data = dataframe[[\"date\", \"case\"]]\n",
    "\n",
    "split_data.head()"
   ]
  },
  {
   "cell_type": "code",
   "execution_count": 5,
   "metadata": {},
   "outputs": [
    {
     "data": {
      "text/plain": [
       "<AxesSubplot: xlabel='date'>"
      ]
     },
     "execution_count": 5,
     "metadata": {},
     "output_type": "execute_result"
    },
    {
     "data": {
      "image/png": "[encoded data removed]",
      "text/plain": [
       "<Figure size 640x480 with 1 Axes>"
      ]
     },
     "metadata": {},
     "output_type": "display_data"
    }
   ],
   "source": [
    "split_data.plot.bar(x=\"date\", y=\"case\")"
   ]
  },
  {
   "cell_type": "code",
   "execution_count": 13,
   "metadata": {},
   "outputs": [
    {
     "data": {
      "text/plain": [
       "array([[    0],\n",
       "       [    6],\n",
       "       [    3],\n",
       "       [    2],\n",
       "       [    0],\n",
       "       [    0],\n",
       "       [    0],\n",
       "       [    4],\n",
       "       [    3],\n",
       "       [    3],\n",
       "       [   14],\n",
       "       [   49],\n",
       "       [   48],\n",
       "       [   12],\n",
       "       [   18],\n",
       "       [   35],\n",
       "       [   41],\n",
       "       [   10],\n",
       "       [  117],\n",
       "       [  229],\n",
       "       [   80],\n",
       "       [   53],\n",
       "       [  168],\n",
       "       [  426],\n",
       "       [  659],\n",
       "       [ 9401],\n",
       "       [35216],\n",
       "       [ 8903],\n",
       "       [ 2309],\n",
       "       [  842],\n",
       "       [ 5458],\n",
       "       [13859],\n",
       "       [ 4108]], dtype=int64)"
      ]
     },
     "execution_count": 13,
     "metadata": {},
     "output_type": "execute_result"
    }
   ],
   "source": [
    "case_data = dataframe[[\"case\"]].to_numpy()\n",
    "\n",
    "case_data"
   ]
  },
  {
   "cell_type": "code",
   "execution_count": 14,
   "metadata": {},
   "outputs": [
    {
     "data": {
      "text/plain": [
       "array([[    0],\n",
       "       [    6],\n",
       "       [    3],\n",
       "       [    2],\n",
       "       [    0],\n",
       "       [    0],\n",
       "       [    0],\n",
       "       [    4],\n",
       "       [    3],\n",
       "       [    3],\n",
       "       [   14],\n",
       "       [   49],\n",
       "       [   48],\n",
       "       [   12],\n",
       "       [   18],\n",
       "       [   35],\n",
       "       [   41],\n",
       "       [   10],\n",
       "       [  117],\n",
       "       [  229],\n",
       "       [   80],\n",
       "       [   53],\n",
       "       [  168],\n",
       "       [  426],\n",
       "       [  659],\n",
       "       [ 9401],\n",
       "       [35216],\n",
       "       [ 8903],\n",
       "       [ 2309],\n",
       "       [  842],\n",
       "       [ 5458],\n",
       "       [13859],\n",
       "       [ 4108]], dtype=int64)"
      ]
     },
     "execution_count": 14,
     "metadata": {},
     "output_type": "execute_result"
    }
   ],
   "source": [
    "import numpy as np\n",
    "\n",
    "case_data = np.ravel(case_data, order=\"C\")\n",
    "\n",
    "case_data"
   ]
  },
  {
   "cell_type": "code",
   "execution_count": 15,
   "metadata": {},
   "outputs": [
    {
     "data": {
      "text/plain": [
       "array([[False],\n",
       "       [False],\n",
       "       [False],\n",
       "       [False],\n",
       "       [False],\n",
       "       [False],\n",
       "       [False],\n",
       "       [False],\n",
       "       [False],\n",
       "       [False],\n",
       "       [False],\n",
       "       [False],\n",
       "       [False],\n",
       "       [False],\n",
       "       [False],\n",
       "       [False],\n",
       "       [False],\n",
       "       [False],\n",
       "       [False],\n",
       "       [False],\n",
       "       [False],\n",
       "       [False],\n",
       "       [False],\n",
       "       [False],\n",
       "       [False],\n",
       "       [ True],\n",
       "       [ True],\n",
       "       [ True],\n",
       "       [False],\n",
       "       [False],\n",
       "       [ True],\n",
       "       [ True],\n",
       "       [False]])"
      ]
     },
     "execution_count": 15,
     "metadata": {},
     "output_type": "execute_result"
    }
   ],
   "source": [
    "case_result = case_data > 4999\n",
    "\n",
    "case_result"
   ]
  },
  {
   "cell_type": "code",
   "execution_count": 16,
   "metadata": {},
   "outputs": [
    {
     "data": {
      "text/plain": [
       "array([['2020-01-01'],\n",
       "       ['2020-02-01'],\n",
       "       ['2020-03-01'],\n",
       "       ['2020-04-01'],\n",
       "       ['2020-05-01'],\n",
       "       ['2020-06-01'],\n",
       "       ['2020-07-01'],\n",
       "       ['2020-08-01'],\n",
       "       ['2020-09-01'],\n",
       "       ['2020-10-01'],\n",
       "       ['2020-11-01'],\n",
       "       ['2020-12-01'],\n",
       "       ['2021-01-01'],\n",
       "       ['2021-02-01'],\n",
       "       ['2021-03-01'],\n",
       "       ['2021-04-01'],\n",
       "       ['2021-05-01'],\n",
       "       ['2021-06-01'],\n",
       "       ['2021-07-01'],\n",
       "       ['2021-08-01'],\n",
       "       ['2021-09-01'],\n",
       "       ['2021-10-01'],\n",
       "       ['2021-11-01'],\n",
       "       ['2021-12-01'],\n",
       "       ['2022-01-01'],\n",
       "       ['2022-02-01'],\n",
       "       ['2022-03-01'],\n",
       "       ['2022-04-01'],\n",
       "       ['2022-05-01'],\n",
       "       ['2022-06-01'],\n",
       "       ['2022-07-01'],\n",
       "       ['2022-08-01'],\n",
       "       ['2022-09-01']], dtype=object)"
      ]
     },
     "execution_count": 16,
     "metadata": {},
     "output_type": "execute_result"
    }
   ],
   "source": [
    "date_data = dataframe[[\"date\"]]\n",
    "\n",
    "date_data = date_data.to_numpy()\n",
    "\n",
    "date_data = np.ravel(date_data, order=\"C\")\n",
    "\n",
    "date_data"
   ]
  },
  {
   "cell_type": "code",
   "execution_count": 28,
   "metadata": {},
   "outputs": [],
   "source": [
    "date_data = pd.DataFrame(date_data, columns=[\"date\"])\n",
    "case_result = pd.DataFrame(1 * case_result , columns=[\"case\"])   \n",
    "                      \n",
    "pd.concat([date_data, case_result], axis = 1).to_csv(\"su_result.csv\", index=False, encoding=\"utf-8\")"
   ]
  }
 ],
 "metadata": {
  "kernelspec": {
   "display_name": "Python 3.10.8 64-bit",
   "language": "python",
   "name": "python3"
  },
  "language_info": {
   "codemirror_mode": {
    "name": "ipython",
    "version": 3
   },
   "file_extension": ".py",
   "mimetype": "text/x-python",
   "name": "python",
   "nbconvert_exporter": "python",
   "pygments_lexer": "ipython3",
   "version": "3.10.8"
  },
  "orig_nbformat": 4,
  "vscode": {
   "interpreter": {
    "hash": "d3e10ef16274dd72e574b8fa73b58450b957d8421a2901baded3cca26fcf5dda"
   }
  }
 },
 "nbformat": 4,
 "nbformat_minor": 2
}
